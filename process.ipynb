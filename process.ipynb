{
 "cells": [
  {
   "cell_type": "code",
   "execution_count": 1,
   "metadata": {
    "collapsed": false
   },
   "outputs": [],
   "source": [
    "#Read in email file\n",
    "\n",
    "with open('./example/email1.txt', 'r') as myfile:\n",
    "  email = myfile.read()"
   ]
  },
  {
   "cell_type": "code",
   "execution_count": 2,
   "metadata": {
    "collapsed": false
   },
   "outputs": [
    {
     "data": {
      "text/plain": [
       "2474"
      ]
     },
     "execution_count": 2,
     "metadata": {},
     "output_type": "execute_result"
    }
   ],
   "source": [
    "import pandas as pd\n",
    "len(email)"
   ]
  },
  {
   "cell_type": "code",
   "execution_count": 3,
   "metadata": {
    "collapsed": false
   },
   "outputs": [
    {
     "name": "stdout",
     "output_type": "stream",
     "text": [
      "You are invited to the following event:\r\n",
      "\r\n",
      "URBAN FORESTRY: LESSONS LEARNED, CHALLENGES AND OPPORTUNITIES AHEAD\r\n",
      "divider\r\n",
      " \t\r\n",
      "Event to be held at the following time, date, and location:\r\n",
      "\r\n",
      "Wednesday, November 9, 2016 from 6:00 PM to 7:30 PM (EST)\r\n",
      "\r\n",
      "Cornell University Architecture, Art, Planning\r\n",
      "26 Broadway (20th floor) \r\n",
      "New York, NY 10004\r\n",
      "\r\n",
      "View Map\r\n",
      "\r\n",
      "Attend Event\t\r\n",
      "Share this event:\r\n",
      "Facebook\tTwitter\tLinkedIn divider\r\n",
      "Join Us\r\n",
      "\r\n",
      "On November 9th at Cornell University's Architecture Art Planning for a presentation from author Jill Jonnes, and panel discussion with expert voices in American forestry. We will discuss the past, present and future of Uran Forestry with panelists: Fiona Watt, NYC Parks, Todd Forrest, New York Botanical Garden, Joseph Gittelman, ALB Expert and Jill Jonnes. Jill will join the panel after giving her presentation. \r\n",
      "\r\n",
      " \r\n",
      "\r\n",
      "Jill Jonnes, author of Eiffel�s Tower, Conquering Gotham, Empires of Light, and South Bronx Rising, will read a selection from her new title, Urban Forests: A Natural History of Trees and People in the American Cityscape. \r\n",
      "\r\n",
      " \r\n",
      "\r\n",
      "URBAN FORESTS is a celebration of urban trees and the Americans�presidents, plant explorers, visionaries, citizen activists, scientists, nurserymen, and tree nerds�whose arboreal passions have shaped and ornamented the nation's cities, from Jefferson's day to the present. The book also examines the character of American urban forests and the effect that tree-rich landscaping might have on commerce, crime, and human well-being. As we wrestle with how to repair the damage we have wrought on nature, and how to slow climate change, drawing insights from researchers in city and federal agencies like the NYC Parks and the U.S Forest Service among others may offer opportunties for innovative solutions.\r\n",
      "\r\n",
      "Following the discussion there will be a reception with refreshments. Jill�s book will also be available for purchase.\r\n",
      "\r\n",
      " \r\n",
      "\r\n",
      "Hosted by\r\n",
      "\r\n",
      "Cornell University's\r\n",
      "\r\n",
      "Architecture Art Planning\r\n",
      "\r\n",
      "26 Broadway New York, NY 10004\r\n",
      "\r\n",
      "20th Floor\r\n",
      "\r\n",
      "Book Reading and Panel: 6:00 PM-7:30\r\n",
      "\r\n",
      "Reception: 7:30-8:30pm\r\n",
      "\r\n",
      " \r\n",
      "\r\n",
      "Please bring your ID and Event Ticket\r\n",
      "\r\n",
      "We recommend that you arrive at least 15 minutes early for check-in and seating.\r\n",
      "\r\n",
      " \r\n",
      "\r\n",
      "Any Questions? email:  UFS@parks.nyc.gov  \r\n",
      "\r\n",
      "Science of the Living City is a program of the NYC Urban Field Station\r\n",
      "\r\n",
      "\r\n",
      "\r\n",
      "\r\n",
      "Share this event on Facebook and Twitter\r\n",
      "\r\n",
      "We hope you can make it!\r\n",
      "\r\n",
      "Cheers,\r\n",
      "NYC Urban Field Station\n"
     ]
    }
   ],
   "source": [
    "print(email)"
   ]
  },
  {
   "cell_type": "code",
   "execution_count": 4,
   "metadata": {
    "collapsed": false
   },
   "outputs": [
    {
     "data": {
      "text/plain": [
       "\"you are invited to the following event:    urban forestry: lessons learned, challenges and opportunities ahead  divider      event to be held at the following time, date, and location:    wednesday, november 9, 2016 from 6:00 pm to 7:30 pm (est)    cornell university architecture, art, planning  26 broadway (20th floor)   new york, ny 10004    view map    attend event   share this event:  facebook twitter linkedin divider  join us    on november 9th at cornell university's architecture art planning for a presentation from author jill jonnes, and panel discussion with expert voices in american forestry. we will discuss the past, present and future of uran forestry with panelists: fiona watt, nyc parks, todd forrest, new york botanical garden, joseph gittelman, alb expert and jill jonnes. jill will join the panel after giving her presentation.          jill jonnes, author of eiffels tower, conquering gotham, empires of light, and south bronx rising, will read a selection from her new title, urban forests: a natural history of trees and people in the american cityscape.          urban forests is a celebration of urban trees and the americanspresidents, plant explorers, visionaries, citizen activists, scientists, nurserymen, and tree nerdswhose arboreal passions have shaped and ornamented the nation's cities, from jefferson's day to the present. the book also examines the character of american urban forests and the effect that tree-rich landscaping might have on commerce, crime, and human well-being. as we wrestle with how to repair the damage we have wrought on nature, and how to slow climate change, drawing insights from researchers in city and federal agencies like the nyc parks and the u.s forest service among others may offer opportunties for innovative solutions.    following the discussion there will be a reception with refreshments. jills book will also be available for purchase.         hosted by    cornell university's    architecture art planning    26 broadway new york, ny 10004    20th floor    book reading and panel: 6:00 pm-7:30    reception: 7:30-8:30pm         please bring your id and event ticket    we recommend that you arrive at least 15 minutes early for check-in and seating.         any questions? email:  ufs@parks.nyc.gov      science of the living city is a program of the nyc urban field station          share this event on facebook and twitter    we hope you can make it!    cheers,  nyc urban field station\""
      ]
     },
     "execution_count": 4,
     "metadata": {},
     "output_type": "execute_result"
    }
   ],
   "source": [
    "#preprocessing text, split string into list of words\n",
    "escapes = [chr(char) for char in range(1,32)]\n",
    "escapes.append('\\x92')\n",
    "escapes.append('\\x97')\n",
    "\n",
    "#remove escape chars as spaces\n",
    "strList = email\\\n",
    ".replace('\\n',' ')\\\n",
    ".replace('\\r', ' ')\\\n",
    ".replace('\\t', ' ')\\\n",
    ".translate(None, ''.join(escapes))\\\n",
    ".lower()\n",
    "\n",
    "#lowercase and lemmatize, should i lemmatize?\n",
    "\n",
    "\n",
    "strList\n"
   ]
  },
  {
   "cell_type": "code",
   "execution_count": 5,
   "metadata": {
    "collapsed": false
   },
   "outputs": [],
   "source": [
    "srsFoods = pd.read_csv('./data/Review_table_Reduced.csv')['text']"
   ]
  },
  {
   "cell_type": "code",
   "execution_count": 6,
   "metadata": {
    "collapsed": false
   },
   "outputs": [
    {
     "data": {
      "text/plain": [
       "622446"
      ]
     },
     "execution_count": 6,
     "metadata": {},
     "output_type": "execute_result"
    }
   ],
   "source": [
    "len(srsFoods)"
   ]
  },
  {
   "cell_type": "code",
   "execution_count": 7,
   "metadata": {
    "collapsed": false
   },
   "outputs": [],
   "source": [
    "dfFoods = pd.concat([srsFoods, pd.Series([1]*len(srsFoods), name = 'isFood')], axis = 1)"
   ]
  },
  {
   "cell_type": "code",
   "execution_count": 8,
   "metadata": {
    "collapsed": false
   },
   "outputs": [
    {
     "data": {
      "text/html": [
       "<div>\n",
       "<table border=\"1\" class=\"dataframe\">\n",
       "  <thead>\n",
       "    <tr style=\"text-align: right;\">\n",
       "      <th></th>\n",
       "      <th>text</th>\n",
       "      <th>isFood</th>\n",
       "    </tr>\n",
       "  </thead>\n",
       "  <tbody>\n",
       "    <tr>\n",
       "      <th>0</th>\n",
       "      <td>Not the same Domino's pizza I ate too much of ...</td>\n",
       "      <td>1</td>\n",
       "    </tr>\n",
       "    <tr>\n",
       "      <th>1</th>\n",
       "      <td>Easy ordering-on-line. Made exactly as I asked...</td>\n",
       "      <td>1</td>\n",
       "    </tr>\n",
       "    <tr>\n",
       "      <th>2</th>\n",
       "      <td>OK OK... as a Proud Italian I hope my momma do...</td>\n",
       "      <td>1</td>\n",
       "    </tr>\n",
       "    <tr>\n",
       "      <th>3</th>\n",
       "      <td>never has crushed peppers! \\n\\nbut the pizza a...</td>\n",
       "      <td>1</td>\n",
       "    </tr>\n",
       "    <tr>\n",
       "      <th>4</th>\n",
       "      <td>The pizza wasn't horrible,  but the deal was a...</td>\n",
       "      <td>1</td>\n",
       "    </tr>\n",
       "  </tbody>\n",
       "</table>\n",
       "</div>"
      ],
      "text/plain": [
       "                                                text  isFood\n",
       "0  Not the same Domino's pizza I ate too much of ...       1\n",
       "1  Easy ordering-on-line. Made exactly as I asked...       1\n",
       "2  OK OK... as a Proud Italian I hope my momma do...       1\n",
       "3  never has crushed peppers! \\n\\nbut the pizza a...       1\n",
       "4  The pizza wasn't horrible,  but the deal was a...       1"
      ]
     },
     "execution_count": 8,
     "metadata": {},
     "output_type": "execute_result"
    }
   ],
   "source": [
    "dfFoods.head()"
   ]
  },
  {
   "cell_type": "code",
   "execution_count": null,
   "metadata": {
    "collapsed": false
   },
   "outputs": [
    {
     "data": {
      "text/html": [
       "<div>\n",
       "<table border=\"1\" class=\"dataframe\">\n",
       "  <thead>\n",
       "    <tr style=\"text-align: right;\">\n",
       "      <th></th>\n",
       "      <th>text</th>\n",
       "      <th>isFood</th>\n",
       "    </tr>\n",
       "  </thead>\n",
       "  <tbody>\n",
       "    <tr>\n",
       "      <th>0</th>\n",
       "      <td>\\r\\nDate: Wed, 13 Dec 2000 18:41:00 -0800 (PST...</td>\n",
       "      <td>0</td>\n",
       "    </tr>\n",
       "    <tr>\n",
       "      <th>1</th>\n",
       "      <td>\\r\\nDate: Wed, 13 Dec 2000 08:35:00 -0800 (PST...</td>\n",
       "      <td>0</td>\n",
       "    </tr>\n",
       "    <tr>\n",
       "      <th>2</th>\n",
       "      <td>\\nDate: Mon, 9 Oct 2000 07:16:00 -0700 (PDT)\\r...</td>\n",
       "      <td>0</td>\n",
       "    </tr>\n",
       "    <tr>\n",
       "      <th>3</th>\n",
       "      <td>\\r\\nDate: Mon, 9 Oct 2000 07:00:00 -0700 (PDT)...</td>\n",
       "      <td>0</td>\n",
       "    </tr>\n",
       "    <tr>\n",
       "      <th>4</th>\n",
       "      <td>\\nDate: Thu, 5 Oct 2000 06:26:00 -0700 (PDT)\\r...</td>\n",
       "      <td>0</td>\n",
       "    </tr>\n",
       "  </tbody>\n",
       "</table>\n",
       "</div>"
      ],
      "text/plain": [
       "                                                text  isFood\n",
       "0  \\r\\nDate: Wed, 13 Dec 2000 18:41:00 -0800 (PST...       0\n",
       "1  \\r\\nDate: Wed, 13 Dec 2000 08:35:00 -0800 (PST...       0\n",
       "2  \\nDate: Mon, 9 Oct 2000 07:16:00 -0700 (PDT)\\r...       0\n",
       "3  \\r\\nDate: Mon, 9 Oct 2000 07:00:00 -0700 (PDT)...       0\n",
       "4  \\nDate: Thu, 5 Oct 2000 06:26:00 -0700 (PDT)\\r...       0"
      ]
     },
     "execution_count": 9,
     "metadata": {},
     "output_type": "execute_result"
    }
   ],
   "source": [
    "import os\n",
    "\n",
    "#Read in data from email files\n",
    "\n",
    "data = []\n",
    "\n",
    "for f in os.listdir('./data/enron'):\n",
    "    with open('./data/enron/' + f, 'r') as myfile:\n",
    "        data.append(myfile.read())\n",
    "        \n",
    "enron = pd.Series(data, name = 'text')\n",
    "\n",
    "#Only to be used on enron emails\n",
    "def rmMsgID(strEnron):\n",
    "    return strEnron[57:]\n",
    "\n",
    "enron = enron.apply(rmMsgID)\n",
    "#len('Message-ID: <2262872.1075863600393.JavaMail.evans@thyme>')\n",
    "dfSpam = pd.concat([enron, pd.Series([0]*len(enron), name = 'isFood')], axis = 1)\n",
    "dfSpam.to_csv('enron.csv')\n",
    "dfSpam.head()"
   ]
  },
  {
   "cell_type": "code",
   "execution_count": 11,
   "metadata": {
    "collapsed": false
   },
   "outputs": [
    {
     "data": {
      "text/html": [
       "<div>\n",
       "<table border=\"1\" class=\"dataframe\">\n",
       "  <thead>\n",
       "    <tr style=\"text-align: right;\">\n",
       "      <th></th>\n",
       "      <th>text</th>\n",
       "      <th>isFood</th>\n",
       "    </tr>\n",
       "  </thead>\n",
       "  <tbody>\n",
       "    <tr>\n",
       "      <th>0</th>\n",
       "      <td>\\r\\nDate: Wed, 13 Dec 2000 18:41:00 -0800 (PST...</td>\n",
       "      <td>0</td>\n",
       "    </tr>\n",
       "    <tr>\n",
       "      <th>1</th>\n",
       "      <td>\\r\\nDate: Wed, 13 Dec 2000 08:35:00 -0800 (PST...</td>\n",
       "      <td>0</td>\n",
       "    </tr>\n",
       "    <tr>\n",
       "      <th>2</th>\n",
       "      <td>\\nDate: Mon, 9 Oct 2000 07:16:00 -0700 (PDT)\\r...</td>\n",
       "      <td>0</td>\n",
       "    </tr>\n",
       "    <tr>\n",
       "      <th>3</th>\n",
       "      <td>\\r\\nDate: Mon, 9 Oct 2000 07:00:00 -0700 (PDT)...</td>\n",
       "      <td>0</td>\n",
       "    </tr>\n",
       "    <tr>\n",
       "      <th>4</th>\n",
       "      <td>\\nDate: Thu, 5 Oct 2000 06:26:00 -0700 (PDT)\\r...</td>\n",
       "      <td>0</td>\n",
       "    </tr>\n",
       "  </tbody>\n",
       "</table>\n",
       "</div>"
      ],
      "text/plain": [
       "                                                text  isFood\n",
       "0  \\r\\nDate: Wed, 13 Dec 2000 18:41:00 -0800 (PST...       0\n",
       "1  \\r\\nDate: Wed, 13 Dec 2000 08:35:00 -0800 (PST...       0\n",
       "2  \\nDate: Mon, 9 Oct 2000 07:16:00 -0700 (PDT)\\r...       0\n",
       "3  \\r\\nDate: Mon, 9 Oct 2000 07:00:00 -0700 (PDT)...       0\n",
       "4  \\nDate: Thu, 5 Oct 2000 06:26:00 -0700 (PDT)\\r...       0"
      ]
     },
     "execution_count": 11,
     "metadata": {},
     "output_type": "execute_result"
    }
   ],
   "source": [
    "#Union two dataframes\n",
    "dfData = dfSpam.append(dfFoods)\n",
    "dfData.head()"
   ]
  },
  {
   "cell_type": "code",
   "execution_count": 12,
   "metadata": {
    "collapsed": false
   },
   "outputs": [],
   "source": [
    "#preprocessing text, split string into list of words\n",
    "escapes = [chr(char) for char in range(1,32)]\n",
    "escapes.append('\\x92')\n",
    "escapes.append('\\x97')\n",
    "\n",
    "import string\n",
    "\n",
    "#remove escape chars as spaces\n",
    "def strStrip(text):\n",
    "    return text\\\n",
    ".replace('\\n',' ')\\\n",
    ".replace('\\r', ' ')\\\n",
    ".replace('\\t', ' ')\\\n",
    ".translate(None, ''.join(escapes))\\\n",
    ".translate(None, string.punctuation)\\\n",
    ".lower()\n",
    "\n",
    "def strUni(text):\n",
    "    return unicode(text, 'latin-1')\n",
    "\n",
    "dfData['text'] = dfData['text'].apply(strStrip)\n",
    "dfData['text'] = dfData['text'].apply(strUni)\n"
   ]
  },
  {
   "cell_type": "code",
   "execution_count": 13,
   "metadata": {
    "collapsed": false
   },
   "outputs": [],
   "source": [
    "#Split into train and test set\n",
    "import numpy as np\n",
    "from sklearn.model_selection import train_test_split\n",
    "\n",
    "X = dfData['text']\n",
    "y = dfData['isFood']\n",
    "\n",
    "X_train, X_test, y_train, y_test = train_test_split(X, y, test_size=0.33, random_state=42)"
   ]
  },
  {
   "cell_type": "code",
   "execution_count": 14,
   "metadata": {
    "collapsed": false
   },
   "outputs": [
    {
     "data": {
      "text/plain": [
       "(645916, 929505)"
      ]
     },
     "execution_count": 14,
     "metadata": {},
     "output_type": "execute_result"
    }
   ],
   "source": [
    "from sklearn.feature_extraction.text import CountVectorizer\n",
    "count_vect = CountVectorizer()\n",
    "\n",
    "X_train_counts = count_vect.fit_transform(X_train)\n",
    "X_train_counts.shape"
   ]
  },
  {
   "cell_type": "code",
   "execution_count": 15,
   "metadata": {
    "collapsed": false
   },
   "outputs": [
    {
     "data": {
      "text/plain": [
       "(645916, 929505)"
      ]
     },
     "execution_count": 15,
     "metadata": {},
     "output_type": "execute_result"
    }
   ],
   "source": [
    "from sklearn.feature_extraction.text import TfidfTransformer\n",
    "tfidf_transformer = TfidfTransformer()\n",
    "X_train_tfidf = tfidf_transformer.fit_transform(X_train_counts)\n",
    "X_train_tfidf.shape"
   ]
  },
  {
   "cell_type": "code",
   "execution_count": 16,
   "metadata": {
    "collapsed": false
   },
   "outputs": [],
   "source": [
    "from sklearn.naive_bayes import MultinomialNB\n",
    "\n",
    "clf = MultinomialNB().fit(X_train_tfidf, y_train)"
   ]
  },
  {
   "cell_type": "code",
   "execution_count": 17,
   "metadata": {
    "collapsed": true
   },
   "outputs": [],
   "source": [
    "from sklearn.pipeline import Pipeline\n",
    "\n",
    "text_clf = Pipeline([('vect', CountVectorizer()),\n",
    "                      ('tfidf', TfidfTransformer()),\n",
    "                      ('clf', MultinomialNB()),\n",
    " ])"
   ]
  },
  {
   "cell_type": "code",
   "execution_count": 18,
   "metadata": {
    "collapsed": false
   },
   "outputs": [
    {
     "data": {
      "text/plain": [
       "['text_clf.pkl']"
      ]
     },
     "execution_count": 18,
     "metadata": {},
     "output_type": "execute_result"
    }
   ],
   "source": []
  },
  {
   "cell_type": "code",
   "execution_count": 19,
   "metadata": {
    "collapsed": false
   },
   "outputs": [
    {
     "data": {
      "text/plain": [
       "0.99901929351413532"
      ]
     },
     "execution_count": 19,
     "metadata": {},
     "output_type": "execute_result"
    }
   ],
   "source": [
    "text_clf.fit(X_train, y_train)\n",
    "\n",
    "from sklearn.externals import joblib\n",
    "joblib.dump(text_clf, 'text_clf.pkl')\n",
    "\n",
    "predicted = text_clf.predict(X_test)\n",
    "np.mean(predicted == y_test)"
   ]
  },
  {
   "cell_type": "code",
   "execution_count": null,
   "metadata": {
    "collapsed": true
   },
   "outputs": [],
   "source": []
  },
  {
   "cell_type": "code",
   "execution_count": 21,
   "metadata": {
    "collapsed": false
   },
   "outputs": [],
   "source": [
    "#99% Accuracy, now to test it on our other email files\n",
    "#Read in data from email files\n",
    "\n",
    "freeFood = []\n",
    "\n",
    "for f in os.listdir('./example'):\n",
    "    with open('./example/' + f, 'r') as myfile:\n",
    "        freeFood.append(myfile.read())\n",
    "        \n",
    "srsTest = pd.Series(freeFood, name = 'text')\n",
    "\n",
    "dfTest = pd.concat([srsTest, pd.Series([1]*len(srsTest), name = 'isFood')], axis = 1)\n",
    "\n",
    "#preprocess dfTest\n",
    "#preprocessing text, split string into list of words\n",
    "\n",
    "dfTest['text'] = dfTest['text'].apply(strStrip)\n",
    "dfTest['text'] = dfTest['text'].apply(strUni)\n",
    "\n",
    "predicted = text_clf.predict(dfTest['text'])\n",
    "#predicted"
   ]
  },
  {
   "cell_type": "code",
   "execution_count": 22,
   "metadata": {
    "collapsed": false
   },
   "outputs": [
    {
     "data": {
      "text/plain": [
       "array([0, 0, 0, 0, 0, 0, 0, 0, 0, 1, 0, 0])"
      ]
     },
     "execution_count": 22,
     "metadata": {},
     "output_type": "execute_result"
    }
   ],
   "source": [
    "predicted"
   ]
  }
 ],
 "metadata": {
  "kernelspec": {
   "display_name": "Python 2",
   "language": "python",
   "name": "python2"
  },
  "language_info": {
   "codemirror_mode": {
    "name": "ipython",
    "version": 2
   },
   "file_extension": ".py",
   "mimetype": "text/x-python",
   "name": "python",
   "nbconvert_exporter": "python",
   "pygments_lexer": "ipython2",
   "version": "2.7.6"
  }
 },
 "nbformat": 4,
 "nbformat_minor": 1
}
